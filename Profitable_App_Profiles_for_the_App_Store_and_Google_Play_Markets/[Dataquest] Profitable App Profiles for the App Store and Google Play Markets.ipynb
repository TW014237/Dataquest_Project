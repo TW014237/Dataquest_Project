{
 "cells": [
  {
   "cell_type": "markdown",
   "metadata": {},
   "source": [
    "# Profitable App Profiles for the App Store and Google Play Markets"
   ]
  },
  {
   "cell_type": "markdown",
   "metadata": {},
   "source": [
    "Suppose we are at a company, which only build apps that are free to download and install, and our main source of revenue consists of in-app ads.\n",
    "\n",
    "Our goal for this project is to analyze data to help our developers understand what kinds of apps are likely to attract more users. "
   ]
  },
  {
   "cell_type": "code",
   "execution_count": 1,
   "metadata": {},
   "outputs": [],
   "source": [
    "# import packages\n",
    "import numpy as np\n",
    "import pandas as pd"
   ]
  },
  {
   "cell_type": "code",
   "execution_count": 2,
   "metadata": {},
   "outputs": [],
   "source": [
    "# read datasets into dataframe\n",
    "android = pd.read_csv(\"googleplaystore.csv\")\n",
    "ios = pd.read_csv(\"AppleStore.csv\")"
   ]
  },
  {
   "cell_type": "code",
   "execution_count": 3,
   "metadata": {},
   "outputs": [
    {
     "name": "stdout",
     "output_type": "stream",
     "text": [
      "Number of rows in Google Play dataset: 10841\n",
      "Number of columns in Google Play dataset: 13\n"
     ]
    }
   ],
   "source": [
    "# print the number of rows and columns in Google Play dataset\n",
    "print(\"Number of rows in Google Play dataset:\", android.shape[0])\n",
    "print(\"Number of columns in Google Play dataset:\", android.shape[1])"
   ]
  },
  {
   "cell_type": "code",
   "execution_count": 4,
   "metadata": {},
   "outputs": [
    {
     "name": "stdout",
     "output_type": "stream",
     "text": [
      "Number of rows in Apple Store dataset: 7197\n",
      "Number of columns in Apple Store dataset: 16\n"
     ]
    }
   ],
   "source": [
    "# print the numbe of rows and columns in Apple Store dataset\n",
    "print(\"Number of rows in Apple Store dataset:\", ios.shape[0])\n",
    "print(\"Number of columns in Apple Store dataset:\", ios.shape[1])"
   ]
  },
  {
   "cell_type": "markdown",
   "metadata": {},
   "source": [
    "#### The Google Play dataset has a dedicated discussion section, one of the discussions outlines an error for row 10472."
   ]
  },
  {
   "cell_type": "code",
   "execution_count": 5,
   "metadata": {},
   "outputs": [
    {
     "name": "stdout",
     "output_type": "stream",
     "text": [
      "App               Life Made WI-Fi Touchscreen Photo Frame\n",
      "Category                                              1.9\n",
      "Rating                                                 19\n",
      "Reviews                                              3.0M\n",
      "Size                                               1,000+\n",
      "Installs                                             Free\n",
      "Type                                                    0\n",
      "Price                                            Everyone\n",
      "Content Rating                                        NaN\n",
      "Genres                                  February 11, 2018\n",
      "Last Updated                                       1.0.19\n",
      "Current Ver                                    4.0 and up\n",
      "Android Ver                                           NaN\n",
      "Name: 10472, dtype: object\n"
     ]
    }
   ],
   "source": [
    "# print the incorrect row\n",
    "print(android.iloc[10472])"
   ]
  },
  {
   "cell_type": "markdown",
   "metadata": {},
   "source": [
    "#### The maximum rating for a Google Play app is 5. We can see that the rating is 19, this is clearly off. As a consequence, we'll delete this row"
   ]
  },
  {
   "cell_type": "code",
   "execution_count": 6,
   "metadata": {},
   "outputs": [],
   "source": [
    "# drop incorrect row\n",
    "android.drop(10472, inplace=True)"
   ]
  },
  {
   "cell_type": "markdown",
   "metadata": {},
   "source": [
    "#### Another discussion outlines that there exist duplicate entries in Google Play dataset"
   ]
  },
  {
   "cell_type": "code",
   "execution_count": 7,
   "metadata": {},
   "outputs": [
    {
     "name": "stdout",
     "output_type": "stream",
     "text": [
      "Number of duplicate apps: 1181\n"
     ]
    }
   ],
   "source": [
    "# print number of duplicate entries in Google Play dataset\n",
    "number_of_duplicate_apps = android.shape[0] - android['App'].nunique()\n",
    "print(\"Number of duplicate apps:\", number_of_duplicate_apps)"
   ]
  },
  {
   "cell_type": "code",
   "execution_count": 8,
   "metadata": {},
   "outputs": [],
   "source": [
    "# removing duplicate entries\n",
    "android.drop_duplicates(subset=['App'], inplace=True)"
   ]
  },
  {
   "cell_type": "code",
   "execution_count": 9,
   "metadata": {},
   "outputs": [
    {
     "name": "stdout",
     "output_type": "stream",
     "text": [
      "Number of rows in Google Play dataset: 9659\n",
      "Number of columns in Google Play dataset: 13\n"
     ]
    }
   ],
   "source": [
    "# print number of row and columns in Google Play dataset after removing duplicate entries\n",
    "print(\"Number of rows in Google Play dataset:\", android.shape[0])\n",
    "print(\"Number of columns in Google Play dataset:\", android.shape[1])"
   ]
  },
  {
   "cell_type": "markdown",
   "metadata": {},
   "source": [
    "#### Selecting the free apps\n",
    "As we mentioned in the introduction, we only build apps that are free to download and install, and our main source of revenue consists of in-app ads. Our data sets contain both free and non-free apps, and we'll need to isolate only the free apps for our analysis. Below, we isolate the free apps for both our data sets."
   ]
  },
  {
   "cell_type": "code",
   "execution_count": 10,
   "metadata": {},
   "outputs": [
    {
     "name": "stdout",
     "output_type": "stream",
     "text": [
      "Number of free android apps: 8903\n",
      "Number of free ios apps: 4056\n"
     ]
    }
   ],
   "source": [
    "free_android = android[(android['Price'] == '0') | (android['Price'] == '0.0')]\n",
    "free_ios = ios[ios['price'] == 0]\n",
    "\n",
    "print(\"Number of free android apps:\", free_android.shape[0])\n",
    "print(\"Number of free ios apps:\", free_ios.shape[0])"
   ]
  },
  {
   "cell_type": "markdown",
   "metadata": {},
   "source": [
    "#### Find Most Common Apps by Genre"
   ]
  },
  {
   "cell_type": "code",
   "execution_count": 11,
   "metadata": {},
   "outputs": [
    {
     "data": {
      "text/plain": [
       "Tools                                    0.084017\n",
       "Entertainment                            0.060878\n",
       "Education                                0.053914\n",
       "Business                                 0.045827\n",
       "Lifestyle                                0.039200\n",
       "Productivity                             0.038863\n",
       "Finance                                  0.036842\n",
       "Medical                                  0.035044\n",
       "Sports                                   0.034483\n",
       "Personalization                          0.033135\n",
       "Communication                            0.032349\n",
       "Action                                   0.030888\n",
       "Health & Fitness                         0.030664\n",
       "Photography                              0.029428\n",
       "News & Magazines                         0.028305\n",
       "Social                                   0.026508\n",
       "Travel & Local                           0.023138\n",
       "Shopping                                 0.022464\n",
       "Books & Reference                        0.021790\n",
       "Simulation                               0.020667\n",
       "Dating                                   0.018533\n",
       "Arcade                                   0.018421\n",
       "Video Players & Editors                  0.017747\n",
       "Casual                                   0.017522\n",
       "Maps & Navigation                        0.014153\n",
       "Food & Drink                             0.012355\n",
       "Puzzle                                   0.011232\n",
       "Racing                                   0.009884\n",
       "Role Playing                             0.009323\n",
       "Libraries & Demo                         0.009323\n",
       "                                           ...   \n",
       "Video Players & Editors;Music & Video    0.000225\n",
       "Casual;Education                         0.000225\n",
       "Music;Music & Video                      0.000225\n",
       "Health & Fitness;Action & Adventure      0.000112\n",
       "Music & Audio;Music & Video              0.000112\n",
       "Casual;Music & Video                     0.000112\n",
       "Strategy;Action & Adventure              0.000112\n",
       "Card;Action & Adventure                  0.000112\n",
       "Simulation;Education                     0.000112\n",
       "Racing;Pretend Play                      0.000112\n",
       "Parenting;Brain Games                    0.000112\n",
       "Lifestyle;Pretend Play                   0.000112\n",
       "Puzzle;Education                         0.000112\n",
       "Comics;Creativity                        0.000112\n",
       "Trivia;Education                         0.000112\n",
       "Lifestyle;Education                      0.000112\n",
       "Strategy;Education                       0.000112\n",
       "Art & Design;Pretend Play                0.000112\n",
       "Adventure;Education                      0.000112\n",
       "Role Playing;Brain Games                 0.000112\n",
       "Tools;Education                          0.000112\n",
       "Art & Design;Action & Adventure          0.000112\n",
       "Communication;Creativity                 0.000112\n",
       "Entertainment;Education                  0.000112\n",
       "Arcade;Pretend Play                      0.000112\n",
       "Books & Reference;Education              0.000112\n",
       "Health & Fitness;Education               0.000112\n",
       "Strategy;Creativity                      0.000112\n",
       "Travel & Local;Action & Adventure        0.000112\n",
       "Video Players & Editors;Creativity       0.000112\n",
       "Name: Genres, Length: 114, dtype: float64"
      ]
     },
     "execution_count": 11,
     "metadata": {},
     "output_type": "execute_result"
    }
   ],
   "source": [
    "# most common Apps of Google Play dataset\n",
    "free_android['Genres'].value_counts(normalize=True).sort_values(ascending=False)"
   ]
  },
  {
   "cell_type": "code",
   "execution_count": 12,
   "metadata": {},
   "outputs": [
    {
     "data": {
      "text/plain": [
       "Games                0.556460\n",
       "Entertainment        0.082347\n",
       "Photo & Video        0.041174\n",
       "Social Networking    0.035256\n",
       "Education            0.032544\n",
       "Shopping             0.029832\n",
       "Utilities            0.026874\n",
       "Lifestyle            0.023176\n",
       "Finance              0.020710\n",
       "Sports               0.019477\n",
       "Health & Fitness     0.018738\n",
       "Music                0.016519\n",
       "Book                 0.016272\n",
       "Productivity         0.015286\n",
       "News                 0.014300\n",
       "Travel               0.013807\n",
       "Food & Drink         0.010602\n",
       "Weather              0.007643\n",
       "Reference            0.004931\n",
       "Navigation           0.004931\n",
       "Business             0.004931\n",
       "Catalogs             0.002219\n",
       "Medical              0.001972\n",
       "Name: prime_genre, dtype: float64"
      ]
     },
     "execution_count": 12,
     "metadata": {},
     "output_type": "execute_result"
    }
   ],
   "source": [
    "# most common Apps of Apple Store dataset\n",
    "free_ios['prime_genre'].value_counts(normalize=True).sort_values(ascending=False)"
   ]
  },
  {
   "cell_type": "markdown",
   "metadata": {},
   "source": [
    "#### Find Most Popular Apps by Genre on the App Store"
   ]
  },
  {
   "cell_type": "code",
   "execution_count": 13,
   "metadata": {},
   "outputs": [
    {
     "name": "stdout",
     "output_type": "stream",
     "text": [
      "<class 'pandas.core.frame.DataFrame'>\n",
      "Int64Index: 4056 entries, 0 to 7196\n",
      "Data columns (total 16 columns):\n",
      "id                  4056 non-null int64\n",
      "track_name          4056 non-null object\n",
      "size_bytes          4056 non-null int64\n",
      "currency            4056 non-null object\n",
      "price               4056 non-null float64\n",
      "rating_count_tot    4056 non-null int64\n",
      "rating_count_ver    4056 non-null int64\n",
      "user_rating         4056 non-null float64\n",
      "user_rating_ver     4056 non-null float64\n",
      "ver                 4056 non-null object\n",
      "cont_rating         4056 non-null object\n",
      "prime_genre         4056 non-null object\n",
      "sup_devices.num     4056 non-null int64\n",
      "ipadSc_urls.num     4056 non-null int64\n",
      "lang.num            4056 non-null int64\n",
      "vpp_lic             4056 non-null int64\n",
      "dtypes: float64(3), int64(8), object(5)\n",
      "memory usage: 459.5+ KB\n"
     ]
    }
   ],
   "source": [
    "free_ios.info()"
   ]
  },
  {
   "cell_type": "code",
   "execution_count": 14,
   "metadata": {},
   "outputs": [
    {
     "data": {
      "text/plain": [
       "prime_genre\n",
       "Reference            67447.900000\n",
       "Music                56482.029851\n",
       "Social Networking    53078.195804\n",
       "Weather              47220.935484\n",
       "Photo & Video        27249.892216\n",
       "Navigation           25972.050000\n",
       "Travel               20216.017857\n",
       "Food & Drink         20179.093023\n",
       "Sports               20128.974684\n",
       "Health & Fitness     19952.315789\n",
       "Productivity         19053.887097\n",
       "Games                18924.688968\n",
       "Shopping             18746.677686\n",
       "News                 15892.724138\n",
       "Utilities            14010.100917\n",
       "Finance              13522.261905\n",
       "Entertainment        10822.961078\n",
       "Lifestyle             8978.308511\n",
       "Book                  8498.333333\n",
       "Business              6367.800000\n",
       "Education             6266.333333\n",
       "Catalogs              1779.555556\n",
       "Medical                459.750000\n",
       "Name: rating_count_tot, dtype: float64"
      ]
     },
     "execution_count": 14,
     "metadata": {},
     "output_type": "execute_result"
    }
   ],
   "source": [
    "free_ios.groupby(\"prime_genre\")['rating_count_tot'].mean().sort_values(ascending=False)"
   ]
  },
  {
   "cell_type": "markdown",
   "metadata": {},
   "source": [
    "#### Find Most Popular Apps by Genre on the Google Play"
   ]
  },
  {
   "cell_type": "code",
   "execution_count": 15,
   "metadata": {},
   "outputs": [
    {
     "name": "stderr",
     "output_type": "stream",
     "text": [
      "c:\\users\\admin\\appdata\\local\\programs\\python\\python36-32\\lib\\site-packages\\ipykernel_launcher.py:1: SettingWithCopyWarning: \n",
      "A value is trying to be set on a copy of a slice from a DataFrame.\n",
      "Try using .loc[row_indexer,col_indexer] = value instead\n",
      "\n",
      "See the caveats in the documentation: http://pandas.pydata.org/pandas-docs/stable/indexing.html#indexing-view-versus-copy\n",
      "  \"\"\"Entry point for launching an IPython kernel.\n",
      "c:\\users\\admin\\appdata\\local\\programs\\python\\python36-32\\lib\\site-packages\\ipykernel_launcher.py:2: SettingWithCopyWarning: \n",
      "A value is trying to be set on a copy of a slice from a DataFrame.\n",
      "Try using .loc[row_indexer,col_indexer] = value instead\n",
      "\n",
      "See the caveats in the documentation: http://pandas.pydata.org/pandas-docs/stable/indexing.html#indexing-view-versus-copy\n",
      "  \n",
      "c:\\users\\admin\\appdata\\local\\programs\\python\\python36-32\\lib\\site-packages\\ipykernel_launcher.py:3: SettingWithCopyWarning: \n",
      "A value is trying to be set on a copy of a slice from a DataFrame.\n",
      "Try using .loc[row_indexer,col_indexer] = value instead\n",
      "\n",
      "See the caveats in the documentation: http://pandas.pydata.org/pandas-docs/stable/indexing.html#indexing-view-versus-copy\n",
      "  This is separate from the ipykernel package so we can avoid doing imports until\n"
     ]
    },
    {
     "data": {
      "text/plain": [
       "Genres\n",
       "Communication                            3.832263e+07\n",
       "Adventure;Action & Adventure             3.533333e+07\n",
       "Video Players & Editors                  2.479007e+07\n",
       "Social                                   2.325365e+07\n",
       "Arcade                                   2.288837e+07\n",
       "Casual                                   1.956922e+07\n",
       "Puzzle;Action & Adventure                1.836667e+07\n",
       "Photography                              1.773767e+07\n",
       "Educational;Action & Adventure           1.701667e+07\n",
       "Productivity                             1.673896e+07\n",
       "Racing                                   1.591065e+07\n",
       "Travel & Local                           1.405148e+07\n",
       "Casual;Action & Adventure                1.291667e+07\n",
       "Action                                   1.260359e+07\n",
       "Strategy                                 1.112429e+07\n",
       "Tools                                    1.068188e+07\n",
       "Card;Action & Adventure                  1.000000e+07\n",
       "Tools;Education                          1.000000e+07\n",
       "Lifestyle;Pretend Play                   1.000000e+07\n",
       "Role Playing;Brain Games                 1.000000e+07\n",
       "Adventure;Education                      1.000000e+07\n",
       "Casual;Music & Video                     1.000000e+07\n",
       "Music                                    9.445583e+06\n",
       "News & Magazines                         9.401636e+06\n",
       "Educational;Pretend Play                 9.375000e+06\n",
       "Puzzle;Brain Games                       9.280667e+06\n",
       "Racing;Action & Adventure                8.816667e+06\n",
       "Books & Reference                        8.587352e+06\n",
       "Puzzle                                   8.302862e+06\n",
       "Video Players & Editors;Music & Video    7.500000e+06\n",
       "                                             ...     \n",
       "Strategy;Action & Adventure              1.000000e+06\n",
       "Strategy;Creativity                      1.000000e+06\n",
       "Board;Brain Games                        9.812500e+05\n",
       "Dating                                   8.540288e+05\n",
       "Comics                                   8.169300e+05\n",
       "Puzzle;Creativity                        7.500000e+05\n",
       "Auto & Vehicles                          6.473178e+05\n",
       "Libraries & Demo                         6.385037e+05\n",
       "Simulation;Pretend Play                  5.500000e+05\n",
       "Education                                5.381331e+05\n",
       "Beauty                                   5.131519e+05\n",
       "Strategy;Education                       5.000000e+05\n",
       "Art & Design;Pretend Play                5.000000e+05\n",
       "Communication;Creativity                 5.000000e+05\n",
       "Music & Audio;Music & Video              5.000000e+05\n",
       "Parenting                                4.679775e+05\n",
       "Parenting;Education                      4.528571e+05\n",
       "Educational                              4.111848e+05\n",
       "Art & Design;Creativity                  2.850000e+05\n",
       "Events                                   2.535422e+05\n",
       "Medical                                  1.206165e+05\n",
       "Health & Fitness;Education               1.000000e+05\n",
       "Art & Design;Action & Adventure          1.000000e+05\n",
       "Lifestyle;Education                      1.000000e+05\n",
       "Travel & Local;Action & Adventure        1.000000e+05\n",
       "Puzzle;Education                         1.000000e+05\n",
       "Comics;Creativity                        5.000000e+04\n",
       "Books & Reference;Education              1.000000e+03\n",
       "Simulation;Education                     5.000000e+02\n",
       "Trivia;Education                         1.000000e+02\n",
       "Name: Installs, Length: 114, dtype: float64"
      ]
     },
     "execution_count": 15,
     "metadata": {},
     "output_type": "execute_result"
    }
   ],
   "source": [
    "free_android['Installs'] = free_android['Installs'].str.replace(\",\",\"\")\n",
    "free_android['Installs'] = free_android['Installs'].str.replace(\"+\",\"\")\n",
    "free_android['Installs'] = free_android['Installs'].astype(\"float\")\n",
    "\n",
    "free_android.groupby(\"Genres\")['Installs'].mean().sort_values(ascending=False)"
   ]
  },
  {
   "cell_type": "code",
   "execution_count": null,
   "metadata": {},
   "outputs": [],
   "source": []
  }
 ],
 "metadata": {
  "kernelspec": {
   "display_name": "Python 3",
   "language": "python",
   "name": "python3"
  },
  "language_info": {
   "codemirror_mode": {
    "name": "ipython",
    "version": 3
   },
   "file_extension": ".py",
   "mimetype": "text/x-python",
   "name": "python",
   "nbconvert_exporter": "python",
   "pygments_lexer": "ipython3",
   "version": "3.6.4"
  }
 },
 "nbformat": 4,
 "nbformat_minor": 2
}
